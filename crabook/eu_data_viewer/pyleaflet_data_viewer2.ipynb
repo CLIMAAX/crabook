{
 "cells": [
  {
   "cell_type": "markdown",
   "source": [
    "# European map viewer 2"
   ],
   "metadata": {
    "collapsed": false
   },
   "id": "8930293efafe4090"
  },
  {
   "cell_type": "code",
   "outputs": [
    {
     "data": {
      "text/plain": "Map(center=[52.204793, 360.121558], controls=(ZoomControl(options=['position', 'zoom_in_text', 'zoom_in_title'…",
      "application/vnd.jupyter.widget-view+json": {
       "version_major": 2,
       "version_minor": 0,
       "model_id": "143e12a43c034175a69a6870c84292f1"
      }
     },
     "execution_count": 1,
     "metadata": {},
     "output_type": "execute_result"
    }
   ],
   "source": [
    "from ipyleaflet import Map, basemaps, basemap_to_tiles, WMSLayer, LayersControl\n",
    "\n",
    "\n",
    "kajo_geoserver_url = 'https://dev-ichange.kajoservices.com/geoserver/climaax/wms'\n",
    "\n",
    "layer_list = [{\n",
    "    \"name\": \"climaax:HeatWave_rcp85_RelativeChange_epsg3857_2011_2040_vs_1971_2000\",\n",
    "    \"title\": \"Heat Wave 2011_2040 rcp8.5\"\n",
    "}, {\n",
    "    \"name\": \"climaax:HeatWave_rcp85_RelativeChange_epsg3857_2041_2070_vs_1971_2000\",\n",
    "    \"title\": \"Heat Wave 2041_2070 rcp8.5\"\n",
    "}, {\n",
    "    \"name\": \"climaax:HeatWave_rcp85_RelativeChange_epsg3857_2071_2100_vs_1971_2000\",\n",
    "    \"title\": \"Heat Wave 2071_2100 rcp8.5\"\n",
    "}, {\n",
    "    \"name\": \"climaax:HeatWave_rcp45_RelativeChange_epsg3857_2011_2040_vs_1971_2000\",\n",
    "    \"title\": \"Heat Wave 2011_2040 rcp4.5\"\n",
    "}, {\n",
    "    \"name\": \"climaax:HeatWave_rcp45_RelativeChange_epsg3857_2041_2070_vs_1971_2000\",\n",
    "    \"title\": \"Heat Wave 2041_2070 rcp4.5\"\n",
    "}, {\n",
    "    \"name\": \"climaax:HeatWave_rcp45_RelativeChange_epsg3857_2071_2100_vs_1971_2000\",\n",
    "    \"title\": \"Heat Wave 2071_2100 rcp4.5\"\n",
    "}]\n",
    "\n",
    "\n",
    "m = Map(\n",
    "    basemap=basemaps.CartoDB.Positron,\n",
    "    center=(52.204793, 360.121558),\n",
    "    zoom=4\n",
    ")\n",
    "\n",
    "for l in layer_list:\n",
    "    wms = WMSLayer(\n",
    "        url=kajo_geoserver_url,\n",
    "        layers=l[\"name\"],\n",
    "        format='image/png',\n",
    "        transparent=True,\n",
    "        name=l['title']\n",
    "    )\n",
    "    m.add(wms)\n",
    "control = LayersControl(position='topright')\n",
    "m.add(control)\n",
    "\n",
    "m"
   ],
   "metadata": {
    "collapsed": true,
    "ExecuteTime": {
     "end_time": "2024-06-14T10:19:53.649287Z",
     "start_time": "2024-06-14T10:19:52.330754Z"
    }
   },
   "id": "initial_id",
   "execution_count": 1
  },
  {
   "cell_type": "code",
   "outputs": [],
   "source": [],
   "metadata": {
    "collapsed": false
   },
   "id": "aa0e155e374e68e3"
  }
 ],
 "metadata": {
  "kernelspec": {
   "display_name": "Python 3",
   "language": "python",
   "name": "python3"
  },
  "language_info": {
   "codemirror_mode": {
    "name": "ipython",
    "version": 2
   },
   "file_extension": ".py",
   "mimetype": "text/x-python",
   "name": "python",
   "nbconvert_exporter": "python",
   "pygments_lexer": "ipython2",
   "version": "2.7.6"
  }
 },
 "nbformat": 4,
 "nbformat_minor": 5
}
