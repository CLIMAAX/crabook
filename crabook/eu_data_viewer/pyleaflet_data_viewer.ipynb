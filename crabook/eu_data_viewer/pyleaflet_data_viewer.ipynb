{
 "cells": [
  {
   "cell_type": "markdown",
   "id": "7b52facd7f61b16d",
   "metadata": {
    "collapsed": false
   },
   "source": [
    "# European map viewer"
   ]
  },
  {
   "cell_type": "code",
   "execution_count": null,
   "id": "a4e826f5-4baa-46d1-ad27-b300fb49f81e",
   "metadata": {
    "is_executing": true
   },
   "outputs": [],
   "source": [
    "from ipyleaflet import Map, basemaps, basemap_to_tiles\n",
    "\n",
    "m = Map(\n",
    "    basemap=basemap_to_tiles(basemaps.NASAGIBS.ModisTerraTrueColorCR, \"2017-04-08\"),\n",
    "    center=(52.204793, 360.121558),\n",
    "    zoom=4\n",
    ")\n",
    "\n",
    "m"
   ]
  },
  {
   "cell_type": "code",
   "outputs": [],
   "source": [],
   "metadata": {
    "collapsed": false
   },
   "id": "941c82735722f54c"
  }
 ],
 "metadata": {
  "kernelspec": {
   "display_name": "Python 3 (ipykernel)",
   "language": "python",
   "name": "python3"
  },
  "language_info": {
   "codemirror_mode": {
    "name": "ipython",
    "version": 3
   },
   "file_extension": ".py",
   "mimetype": "text/x-python",
   "name": "python",
   "nbconvert_exporter": "python",
   "pygments_lexer": "ipython3",
   "version": "3.12.2"
  }
 },
 "nbformat": 4,
 "nbformat_minor": 5
}
